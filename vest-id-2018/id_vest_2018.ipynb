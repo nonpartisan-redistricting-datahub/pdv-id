{
 "cells": [
  {
   "cell_type": "markdown",
   "metadata": {},
   "source": [
    "Table of contents\n",
    "1. [Precinct Shapefile](#shapefile)\n",
    "2. [Election Results](#electionresults)\n",
    "3. [Joining Election Results to Precinct Shapefile](#joining)\n",
    "4. [Comparison to VEST](#comparison)"
   ]
  },
  {
   "cell_type": "code",
   "execution_count": 1,
   "metadata": {},
   "outputs": [],
   "source": [
    "import numpy as np\n",
    "import pandas as pd\n",
    "import geopandas as gp\n",
    "import matplotlib.pyplot as plt"
   ]
  },
  {
   "cell_type": "markdown",
   "metadata": {},
   "source": [
    "<a name=\"shapefile\"></a>\n"
   ]
  },
  {
   "cell_type": "markdown",
   "metadata": {},
   "source": [
    "# Precinct Shapefile"
   ]
  },
  {
   "cell_type": "markdown",
   "metadata": {},
   "source": [
    "## VEST's Documentation File"
   ]
  },
  {
   "cell_type": "markdown",
   "metadata": {},
   "source": [
    "Election results from Idaho Secretary of State (https://sos.idaho.gov/elections-division/election-results/). Absentee votes were reported countywide or by legislative district for Adams, Bannock, Blaine, Boise, Bonneville, Clearwater, Custer, Elmore, Franklin, Fremont, Gem, Gooding, Idaho, Jefferson, Jerome, Kootenai, Latah, Lemhi, Lewis, Madison, Minidoka, Nez Perce, Owyhee, Shoshone, Teton, Twin Falls, Valley. These were distributed by candidate to precincts based on their share of the precinct-level vote for the given reporting unit.\n",
    "\n",
    "Precinct shapefiles from the U.S. Census Bureau's 2020 Redistricting Data Program Phase 2 release, except the following counties used shapefiles sourced from the respective county governments instead: Ada, Adams, Bannock, Bingham, Boise, Bonner, Cassia, Clearwater, Custer, Fremont, Jefferson, Kootenai, Latah, Lemhi, Lewis, Madison, Minidoka, Nez Perce, Oneida, Power, Twin Falls, Valley.\n",
    "\n",
    "County borders in all county-sourced shapefiles were aligned to the U.S Census Bureau's boundaries. The following additional modifications were made to match the 2018 precinct boundaries.\n",
    "\n",
    "Ada: Merge 1817/1818\n",
    "Bear Lake: Adjust most precincts to match county maps and voter file\n",
    "Benewah: Boundaries revised countywide to match legal description\n",
    "Bonner: Extend precincts over water and align with legal description\n",
    "Boundary: Merge BF/Kootenai\n",
    "Butte: Split Arco 1/Moore along USGS watershed line; Adjust Arco 1/2\n",
    "Camas: Precinct numbers reversed based on county map\n",
    "Cassia: Merge Burley 1/7\n",
    "Clark: Adjust Precinct 1/2, 1/3\n",
    "Elmore: Adjust Mountain Home 4/Hammett\n",
    "Franklin: Split Cleveland/Mound Valley\n",
    "Gem: Adjust Lincoln/Emerson, Hanna/West Emmett\n",
    "Gooding: Align boundaries with PLSS grid and city limits\n",
    "Idaho: Adjust Clearwater/Stites\n",
    "Jerome: Split Canyonside/Rimrock\n",
    "Latah: Merge 29/39; Adjust 19/29\n",
    "Teton: Adjust precinct 6 to match Victor city limits\n",
    "Washington: Align Weiser precincts with city limits\n",
    "```\n",
    "G18GOVRLIT - Brad Little (Republican Party)\n",
    "G18GOVDJOR - Paulette Jordan (Democratic Party)\n",
    "G18GOVLBOE - Bev \"Angel\" Boeck (Libertarian Party)\n",
    "G18GOVCBAY - Walter L. Bayes (Constitution Party)\n",
    "G18GOVOWRI - Write-in Votes\n",
    "\n",
    "G18LTGRMCG - Janice McGeachin (Republican Party)\n",
    "G18LTGDCOL - Kristin Collum (Democratic Party)\n",
    "\n",
    "G18SOSRDEN - Lawerence E. Denney (Republican Party)\n",
    "G18SOSDHUM - Jill Humble (Democratic Party)\n",
    "\n",
    "G18CONRWOO - Brandon D. Woolf (Republican Party)\n",
    "\n",
    "G18TRERELL - Julie A. Ellsworth (Republican Party)\n",
    "\n",
    "G18ATGRWAS - Lawrence Wasden (Republican Party)\n",
    "G18ATGDBIS - Bruce S. Bistline (Democratic Party)\n",
    "\n",
    "G18SPIRYBA - Sherri Ybarra (Republican Party)\n",
    "G18SPIDWIL - Cindy Wilson (Democratic Party)\n",
    "```"
   ]
  },
  {
   "cell_type": "markdown",
   "metadata": {},
   "source": [
    "## Load VEST's Final File"
   ]
  },
  {
   "cell_type": "code",
   "execution_count": 2,
   "metadata": {},
   "outputs": [],
   "source": [
    "vest_shp = gp.read_file(\"./raw-from-source/VEST/id_2018/id_2018.shp\")"
   ]
  },
  {
   "cell_type": "code",
   "execution_count": 3,
   "metadata": {},
   "outputs": [
    {
     "data": {
      "text/plain": [
       "(933, 20)"
      ]
     },
     "execution_count": 3,
     "metadata": {},
     "output_type": "execute_result"
    }
   ],
   "source": [
    "vest_shp.shape"
   ]
  },
  {
   "cell_type": "code",
   "execution_count": 4,
   "metadata": {},
   "outputs": [
    {
     "data": {
      "text/html": [
       "<div>\n",
       "<style scoped>\n",
       "    .dataframe tbody tr th:only-of-type {\n",
       "        vertical-align: middle;\n",
       "    }\n",
       "\n",
       "    .dataframe tbody tr th {\n",
       "        vertical-align: top;\n",
       "    }\n",
       "\n",
       "    .dataframe thead th {\n",
       "        text-align: right;\n",
       "    }\n",
       "</style>\n",
       "<table border=\"1\" class=\"dataframe\">\n",
       "  <thead>\n",
       "    <tr style=\"text-align: right;\">\n",
       "      <th></th>\n",
       "      <th>STATEFP</th>\n",
       "      <th>COUNTYFP</th>\n",
       "      <th>VTDST</th>\n",
       "      <th>NAME</th>\n",
       "      <th>G18GOVRLIT</th>\n",
       "      <th>G18GOVDJOR</th>\n",
       "      <th>G18GOVLBOE</th>\n",
       "      <th>G18GOVCBAY</th>\n",
       "      <th>G18GOVOWRI</th>\n",
       "      <th>G18LTGRMCG</th>\n",
       "      <th>G18LTGDCOL</th>\n",
       "      <th>G18SOSRDEN</th>\n",
       "      <th>G18SOSDHUM</th>\n",
       "      <th>G18CONRWOO</th>\n",
       "      <th>G18TRERELL</th>\n",
       "      <th>G18ATGRWAS</th>\n",
       "      <th>G18ATGDBIS</th>\n",
       "      <th>G18SPIRYBA</th>\n",
       "      <th>G18SPIDWIL</th>\n",
       "      <th>geometry</th>\n",
       "    </tr>\n",
       "  </thead>\n",
       "  <tbody>\n",
       "    <tr>\n",
       "      <th>0</th>\n",
       "      <td>16</td>\n",
       "      <td>013</td>\n",
       "      <td>132601</td>\n",
       "      <td>16 Yale</td>\n",
       "      <td>8</td>\n",
       "      <td>0</td>\n",
       "      <td>0</td>\n",
       "      <td>0</td>\n",
       "      <td>0</td>\n",
       "      <td>7</td>\n",
       "      <td>0</td>\n",
       "      <td>7</td>\n",
       "      <td>0</td>\n",
       "      <td>7</td>\n",
       "      <td>7</td>\n",
       "      <td>8</td>\n",
       "      <td>0</td>\n",
       "      <td>5</td>\n",
       "      <td>0</td>\n",
       "      <td>POLYGON Z ((-113.17891 42.75202 0.00000, -113....</td>\n",
       "    </tr>\n",
       "  </tbody>\n",
       "</table>\n",
       "</div>"
      ],
      "text/plain": [
       "  STATEFP COUNTYFP   VTDST     NAME  G18GOVRLIT  G18GOVDJOR  G18GOVLBOE  \\\n",
       "0      16      013  132601  16 Yale           8           0           0   \n",
       "\n",
       "   G18GOVCBAY  G18GOVOWRI  G18LTGRMCG  G18LTGDCOL  G18SOSRDEN  G18SOSDHUM  \\\n",
       "0           0           0           7           0           7           0   \n",
       "\n",
       "   G18CONRWOO  G18TRERELL  G18ATGRWAS  G18ATGDBIS  G18SPIRYBA  G18SPIDWIL  \\\n",
       "0           7           7           8           0           5           0   \n",
       "\n",
       "                                            geometry  \n",
       "0  POLYGON Z ((-113.17891 42.75202 0.00000, -113....  "
      ]
     },
     "execution_count": 4,
     "metadata": {},
     "output_type": "execute_result"
    }
   ],
   "source": [
    "vest_shp.head(1)"
   ]
  },
  {
   "cell_type": "code",
   "execution_count": 5,
   "metadata": {},
   "outputs": [
    {
     "data": {
      "text/plain": [
       "<AxesSubplot:>"
      ]
     },
     "execution_count": 5,
     "metadata": {},
     "output_type": "execute_result"
    },
    {
     "data": {
      "image/png": "[encoded data removed]",
      "text/plain": [
       "<Figure size 432x288 with 1 Axes>"
      ]
     },
     "metadata": {
      "needs_background": "light"
     },
     "output_type": "display_data"
    }
   ],
   "source": [
    "vest_shp.boundary.plot()"
   ]
  },
  {
   "cell_type": "markdown",
   "metadata": {},
   "source": [
    "## Load Source Precinct File"
   ]
  },
  {
   "cell_type": "markdown",
   "metadata": {},
   "source": [
    "### Create a FIPS code dictionary"
   ]
  },
  {
   "cell_type": "code",
   "execution_count": 6,
   "metadata": {},
   "outputs": [],
   "source": [
    "fips_file = pd.read_csv(\"./raw-from-source/FIPS/US_FIPS_Codes.csv\")\n",
    "fips_file = fips_file[fips_file[\"State\"]==\"Idaho\"]\n",
    "fips_file[\"FIPS County\"]=fips_file[\"FIPS County\"].astype(str)\n",
    "fips_file[\"FIPS County\"]=fips_file[\"FIPS County\"].str.zfill(3)\n",
    "fips_file[\"unique_ID\"] =  \"16\" + fips_file[\"FIPS County\"]\n",
    "fips_codes = fips_file[\"unique_ID\"].tolist()\n",
    "fips_dict = dict(zip(fips_file[\"County Name\"],fips_file[\"FIPS County\"]))"
   ]
  },
  {
   "cell_type": "markdown",
   "metadata": {},
   "source": [
    "### Precinct Shapefiles from the U.S. Census Bureau's Phase 2 Release"
   ]
  },
  {
   "cell_type": "code",
   "execution_count": 7,
   "metadata": {},
   "outputs": [],
   "source": [
    "#Combine all the data from separate files into one\n",
    "li = []\n",
    "for i in fips_codes:\n",
    "    ref = \"./raw-from-source/Census/partnership_shapefiles_19v2_\"\n",
    "    file_ref = ref+i+\"/PVS_19_v2_vtd_\"+i+\".shp\"\n",
    "    file_prev = gp.read_file(file_ref)\n",
    "    #print(file_prev.shape)\n",
    "    li.append(file_prev)\n",
    "global shapefiles_census\n",
    "shapefiles_census = pd.concat(li, axis=0, ignore_index=True)"
   ]
  },
  {
   "cell_type": "code",
   "execution_count": 8,
   "metadata": {},
   "outputs": [
    {
     "data": {
      "text/plain": [
       "(932, 16)"
      ]
     },
     "execution_count": 8,
     "metadata": {},
     "output_type": "execute_result"
    }
   ],
   "source": [
    "shapefiles_census.shape"
   ]
  },
  {
   "cell_type": "code",
   "execution_count": 9,
   "metadata": {},
   "outputs": [
    {
     "data": {
      "text/html": [
       "<div>\n",
       "<style scoped>\n",
       "    .dataframe tbody tr th:only-of-type {\n",
       "        vertical-align: middle;\n",
       "    }\n",
       "\n",
       "    .dataframe tbody tr th {\n",
       "        vertical-align: top;\n",
       "    }\n",
       "\n",
       "    .dataframe thead th {\n",
       "        text-align: right;\n",
       "    }\n",
       "</style>\n",
       "<table border=\"1\" class=\"dataframe\">\n",
       "  <thead>\n",
       "    <tr style=\"text-align: right;\">\n",
       "      <th></th>\n",
       "      <th>STATEFP</th>\n",
       "      <th>COUNTYFP</th>\n",
       "      <th>VTDST</th>\n",
       "      <th>NAMELSAD</th>\n",
       "      <th>VTDI</th>\n",
       "      <th>LSAD</th>\n",
       "      <th>CHNG_TYPE</th>\n",
       "      <th>ORIG_NAME</th>\n",
       "      <th>ORIG_CODE</th>\n",
       "      <th>RELATE</th>\n",
       "      <th>NAME</th>\n",
       "      <th>VINTAGE</th>\n",
       "      <th>FUNCSTAT</th>\n",
       "      <th>JUSTIFY</th>\n",
       "      <th>MTFCC</th>\n",
       "      <th>geometry</th>\n",
       "    </tr>\n",
       "  </thead>\n",
       "  <tbody>\n",
       "    <tr>\n",
       "      <th>0</th>\n",
       "      <td>16</td>\n",
       "      <td>001</td>\n",
       "      <td>011401</td>\n",
       "      <td>1401</td>\n",
       "      <td>A</td>\n",
       "      <td>00</td>\n",
       "      <td>None</td>\n",
       "      <td>None</td>\n",
       "      <td>None</td>\n",
       "      <td>None</td>\n",
       "      <td>1401</td>\n",
       "      <td>90</td>\n",
       "      <td>N</td>\n",
       "      <td>None</td>\n",
       "      <td>G5240</td>\n",
       "      <td>POLYGON Z ((-116.51274 43.73324 0.00000, -116....</td>\n",
       "    </tr>\n",
       "  </tbody>\n",
       "</table>\n",
       "</div>"
      ],
      "text/plain": [
       "  STATEFP COUNTYFP   VTDST NAMELSAD VTDI LSAD CHNG_TYPE ORIG_NAME ORIG_CODE  \\\n",
       "0      16      001  011401     1401    A   00      None      None      None   \n",
       "\n",
       "  RELATE  NAME VINTAGE FUNCSTAT JUSTIFY  MTFCC  \\\n",
       "0   None  1401      90        N    None  G5240   \n",
       "\n",
       "                                            geometry  \n",
       "0  POLYGON Z ((-116.51274 43.73324 0.00000, -116....  "
      ]
     },
     "execution_count": 9,
     "metadata": {},
     "output_type": "execute_result"
    }
   ],
   "source": [
    "shapefiles_census.head(1)"
   ]
  },
  {
   "cell_type": "code",
   "execution_count": 10,
   "metadata": {},
   "outputs": [
    {
     "data": {
      "text/plain": [
       "<AxesSubplot:>"
      ]
     },
     "execution_count": 10,
     "metadata": {},
     "output_type": "execute_result"
    },
    {
     "data": {
      "image/png": "[encoded data removed]",
      "text/plain": [
       "<Figure size 432x288 with 1 Axes>"
      ]
     },
     "metadata": {
      "needs_background": "light"
     },
     "output_type": "display_data"
    }
   ],
   "source": [
    "shapefiles_census.boundary.plot()"
   ]
  },
  {
   "cell_type": "markdown",
   "metadata": {},
   "source": [
    "See the number of precincts in each county between the Census Phase 2 Release and the VEST file where the number of precincts is not the same. "
   ]
  },
  {
   "cell_type": "code",
   "execution_count": 18,
   "metadata": {},
   "outputs": [
    {
     "data": {
      "text/html": [
       "<div>\n",
       "<style scoped>\n",
       "    .dataframe tbody tr th:only-of-type {\n",
       "        vertical-align: middle;\n",
       "    }\n",
       "\n",
       "    .dataframe tbody tr th {\n",
       "        vertical-align: top;\n",
       "    }\n",
       "\n",
       "    .dataframe thead th {\n",
       "        text-align: right;\n",
       "    }\n",
       "</style>\n",
       "<table border=\"1\" class=\"dataframe\">\n",
       "  <thead>\n",
       "    <tr style=\"text-align: right;\">\n",
       "      <th></th>\n",
       "      <th>self</th>\n",
       "      <th>other</th>\n",
       "    </tr>\n",
       "    <tr>\n",
       "      <th>COUNTYFP</th>\n",
       "      <th></th>\n",
       "      <th></th>\n",
       "    </tr>\n",
       "  </thead>\n",
       "  <tbody>\n",
       "    <tr>\n",
       "      <th>001</th>\n",
       "      <td>145.0</td>\n",
       "      <td>150.0</td>\n",
       "    </tr>\n",
       "    <tr>\n",
       "      <th>005</th>\n",
       "      <td>58.0</td>\n",
       "      <td>52.0</td>\n",
       "    </tr>\n",
       "    <tr>\n",
       "      <th>007</th>\n",
       "      <td>14.0</td>\n",
       "      <td>15.0</td>\n",
       "    </tr>\n",
       "    <tr>\n",
       "      <th>017</th>\n",
       "      <td>34.0</td>\n",
       "      <td>32.0</td>\n",
       "    </tr>\n",
       "    <tr>\n",
       "      <th>021</th>\n",
       "      <td>7.0</td>\n",
       "      <td>6.0</td>\n",
       "    </tr>\n",
       "    <tr>\n",
       "      <th>031</th>\n",
       "      <td>25.0</td>\n",
       "      <td>24.0</td>\n",
       "    </tr>\n",
       "    <tr>\n",
       "      <th>041</th>\n",
       "      <td>17.0</td>\n",
       "      <td>18.0</td>\n",
       "    </tr>\n",
       "    <tr>\n",
       "      <th>043</th>\n",
       "      <td>14.0</td>\n",
       "      <td>13.0</td>\n",
       "    </tr>\n",
       "    <tr>\n",
       "      <th>047</th>\n",
       "      <td>7.0</td>\n",
       "      <td>6.0</td>\n",
       "    </tr>\n",
       "    <tr>\n",
       "      <th>051</th>\n",
       "      <td>17.0</td>\n",
       "      <td>20.0</td>\n",
       "    </tr>\n",
       "    <tr>\n",
       "      <th>053</th>\n",
       "      <td>10.0</td>\n",
       "      <td>11.0</td>\n",
       "    </tr>\n",
       "    <tr>\n",
       "      <th>057</th>\n",
       "      <td>32.0</td>\n",
       "      <td>33.0</td>\n",
       "    </tr>\n",
       "    <tr>\n",
       "      <th>059</th>\n",
       "      <td>10.0</td>\n",
       "      <td>9.0</td>\n",
       "    </tr>\n",
       "    <tr>\n",
       "      <th>065</th>\n",
       "      <td>19.0</td>\n",
       "      <td>21.0</td>\n",
       "    </tr>\n",
       "  </tbody>\n",
       "</table>\n",
       "</div>"
      ],
      "text/plain": [
       "           self  other\n",
       "COUNTYFP              \n",
       "001       145.0  150.0\n",
       "005        58.0   52.0\n",
       "007        14.0   15.0\n",
       "017        34.0   32.0\n",
       "021         7.0    6.0\n",
       "031        25.0   24.0\n",
       "041        17.0   18.0\n",
       "043        14.0   13.0\n",
       "047         7.0    6.0\n",
       "051        17.0   20.0\n",
       "053        10.0   11.0\n",
       "057        32.0   33.0\n",
       "059        10.0    9.0\n",
       "065        19.0   21.0"
      ]
     },
     "execution_count": 18,
     "metadata": {},
     "output_type": "execute_result"
    }
   ],
   "source": [
    "shapefiles_census.groupby('COUNTYFP')['VTDST'].count().compare(vest_shp.groupby('COUNTYFP')['VTDST'].count() ) #, keep_shape = True, keep_equal = True)"
   ]
  },
  {
   "cell_type": "code",
   "execution_count": 60,
   "metadata": {},
   "outputs": [
    {
     "data": {
      "text/plain": [
       "{'Ada': '001',\n",
       " 'Adams': '003',\n",
       " 'Bannock': '005',\n",
       " 'Bear Lake': '007',\n",
       " 'Benewah': '009',\n",
       " 'Bingham': '011',\n",
       " 'Blaine': '013',\n",
       " 'Boise': '015',\n",
       " 'Bonner': '017',\n",
       " 'Bonneville': '019',\n",
       " 'Boundary': '021',\n",
       " 'Butte': '023',\n",
       " 'Camas': '025',\n",
       " 'Canyon': '027',\n",
       " 'Caribou': '029',\n",
       " 'Cassia': '031',\n",
       " 'Clark': '033',\n",
       " 'Clearwater': '035',\n",
       " 'Custer': '037',\n",
       " 'Elmore': '039',\n",
       " 'Franklin': '041',\n",
       " 'Fremont': '043',\n",
       " 'Gem': '045',\n",
       " 'Gooding': '047',\n",
       " 'Idaho': '049',\n",
       " 'Jefferson': '051',\n",
       " 'Jerome': '053',\n",
       " 'Kootenai': '055',\n",
       " 'Latah': '057',\n",
       " 'Lemhi': '059',\n",
       " 'Lewis': '061',\n",
       " 'Lincoln': '063',\n",
       " 'Madison': '065',\n",
       " 'Minidoka': '067',\n",
       " 'Nez Perce': '069',\n",
       " 'Oneida': '071',\n",
       " 'Owyhee': '073',\n",
       " 'Payette': '075',\n",
       " 'Power': '077',\n",
       " 'Shoshone': '079',\n",
       " 'Teton': '081',\n",
       " 'Twin Falls': '083',\n",
       " 'Valley': '085',\n",
       " 'Washington': '087'}"
      ]
     },
     "execution_count": 60,
     "metadata": {},
     "output_type": "execute_result"
    }
   ],
   "source": [
    "fips_dict"
   ]
  },
  {
   "cell_type": "markdown",
   "metadata": {},
   "source": [
    "# Election Results"
   ]
  },
  {
   "cell_type": "markdown",
   "metadata": {},
   "source": [
    "## Load in Election Results"
   ]
  },
  {
   "cell_type": "markdown",
   "metadata": {},
   "source": [
    "Downloaded SOS Election Results using the same file linked by VEST, and cleaned them in Excel. Results do not require pivoting. "
   ]
  },
  {
   "cell_type": "code",
   "execution_count": 25,
   "metadata": {},
   "outputs": [],
   "source": [
    "election_results = pd.read_csv('./raw-from-source/SOS/18gen_stwd_pct_clean.csv')"
   ]
  },
  {
   "cell_type": "code",
   "execution_count": 26,
   "metadata": {},
   "outputs": [
    {
     "data": {
      "text/html": [
       "<div>\n",
       "<style scoped>\n",
       "    .dataframe tbody tr th:only-of-type {\n",
       "        vertical-align: middle;\n",
       "    }\n",
       "\n",
       "    .dataframe tbody tr th {\n",
       "        vertical-align: top;\n",
       "    }\n",
       "\n",
       "    .dataframe thead th {\n",
       "        text-align: right;\n",
       "    }\n",
       "</style>\n",
       "<table border=\"1\" class=\"dataframe\">\n",
       "  <thead>\n",
       "    <tr style=\"text-align: right;\">\n",
       "      <th></th>\n",
       "      <th>County</th>\n",
       "      <th>Precinct</th>\n",
       "      <th>G18GOVCBAY</th>\n",
       "      <th>G18GOVLBOE</th>\n",
       "      <th>G18GOVDJOR</th>\n",
       "      <th>G18GOVRLIT</th>\n",
       "      <th>G18GOVOWRI</th>\n",
       "      <th>G18LTGDCOL</th>\n",
       "      <th>G18LTGRMCG</th>\n",
       "      <th>G18SOSRDEN</th>\n",
       "      <th>G18SOSDHUM</th>\n",
       "      <th>G18CONRWOO</th>\n",
       "      <th>G18TRERELL</th>\n",
       "      <th>G18ATGDBIS</th>\n",
       "      <th>G18ATGRWAS</th>\n",
       "      <th>G18SPIDWIL</th>\n",
       "      <th>G18SPIRYBA</th>\n",
       "    </tr>\n",
       "  </thead>\n",
       "  <tbody>\n",
       "    <tr>\n",
       "      <th>0</th>\n",
       "      <td>ADA</td>\n",
       "      <td>1401</td>\n",
       "      <td>9</td>\n",
       "      <td>7</td>\n",
       "      <td>295</td>\n",
       "      <td>817</td>\n",
       "      <td>0</td>\n",
       "      <td>315</td>\n",
       "      <td>803</td>\n",
       "      <td>830</td>\n",
       "      <td>280</td>\n",
       "      <td>928</td>\n",
       "      <td>929</td>\n",
       "      <td>231</td>\n",
       "      <td>867</td>\n",
       "      <td>411</td>\n",
       "      <td>704</td>\n",
       "    </tr>\n",
       "    <tr>\n",
       "      <th>1</th>\n",
       "      <td>ADA</td>\n",
       "      <td>1402</td>\n",
       "      <td>5</td>\n",
       "      <td>7</td>\n",
       "      <td>356</td>\n",
       "      <td>1069</td>\n",
       "      <td>0</td>\n",
       "      <td>389</td>\n",
       "      <td>1037</td>\n",
       "      <td>1066</td>\n",
       "      <td>346</td>\n",
       "      <td>1184</td>\n",
       "      <td>1180</td>\n",
       "      <td>312</td>\n",
       "      <td>1101</td>\n",
       "      <td>512</td>\n",
       "      <td>905</td>\n",
       "    </tr>\n",
       "    <tr>\n",
       "      <th>2</th>\n",
       "      <td>ADA</td>\n",
       "      <td>1403</td>\n",
       "      <td>10</td>\n",
       "      <td>19</td>\n",
       "      <td>461</td>\n",
       "      <td>1067</td>\n",
       "      <td>0</td>\n",
       "      <td>499</td>\n",
       "      <td>1044</td>\n",
       "      <td>1081</td>\n",
       "      <td>445</td>\n",
       "      <td>1212</td>\n",
       "      <td>1212</td>\n",
       "      <td>376</td>\n",
       "      <td>1138</td>\n",
       "      <td>602</td>\n",
       "      <td>912</td>\n",
       "    </tr>\n",
       "    <tr>\n",
       "      <th>3</th>\n",
       "      <td>ADA</td>\n",
       "      <td>1404</td>\n",
       "      <td>14</td>\n",
       "      <td>15</td>\n",
       "      <td>329</td>\n",
       "      <td>944</td>\n",
       "      <td>0</td>\n",
       "      <td>333</td>\n",
       "      <td>944</td>\n",
       "      <td>976</td>\n",
       "      <td>301</td>\n",
       "      <td>1121</td>\n",
       "      <td>1123</td>\n",
       "      <td>297</td>\n",
       "      <td>975</td>\n",
       "      <td>464</td>\n",
       "      <td>812</td>\n",
       "    </tr>\n",
       "    <tr>\n",
       "      <th>4</th>\n",
       "      <td>ADA</td>\n",
       "      <td>1405</td>\n",
       "      <td>13</td>\n",
       "      <td>10</td>\n",
       "      <td>430</td>\n",
       "      <td>1015</td>\n",
       "      <td>0</td>\n",
       "      <td>433</td>\n",
       "      <td>1015</td>\n",
       "      <td>1043</td>\n",
       "      <td>396</td>\n",
       "      <td>1217</td>\n",
       "      <td>1223</td>\n",
       "      <td>354</td>\n",
       "      <td>1070</td>\n",
       "      <td>577</td>\n",
       "      <td>844</td>\n",
       "    </tr>\n",
       "  </tbody>\n",
       "</table>\n",
       "</div>"
      ],
      "text/plain": [
       "  County Precinct  G18GOVCBAY  G18GOVLBOE  G18GOVDJOR  G18GOVRLIT  G18GOVOWRI  \\\n",
       "0    ADA     1401           9           7         295         817           0   \n",
       "1    ADA     1402           5           7         356        1069           0   \n",
       "2    ADA     1403          10          19         461        1067           0   \n",
       "3    ADA     1404          14          15         329         944           0   \n",
       "4    ADA     1405          13          10         430        1015           0   \n",
       "\n",
       "   G18LTGDCOL  G18LTGRMCG  G18SOSRDEN  G18SOSDHUM  G18CONRWOO  G18TRERELL  \\\n",
       "0         315         803         830         280         928         929   \n",
       "1         389        1037        1066         346        1184        1180   \n",
       "2         499        1044        1081         445        1212        1212   \n",
       "3         333         944         976         301        1121        1123   \n",
       "4         433        1015        1043         396        1217        1223   \n",
       "\n",
       "   G18ATGDBIS  G18ATGRWAS  G18SPIDWIL  G18SPIRYBA  \n",
       "0         231         867         411         704  \n",
       "1         312        1101         512         905  \n",
       "2         376        1138         602         912  \n",
       "3         297         975         464         812  \n",
       "4         354        1070         577         844  "
      ]
     },
     "execution_count": 26,
     "metadata": {},
     "output_type": "execute_result"
    }
   ],
   "source": [
    "election_results.head()"
   ]
  },
  {
   "cell_type": "markdown",
   "metadata": {},
   "source": [
    "## Compare Election Result Totals"
   ]
  },
  {
   "cell_type": "code",
   "execution_count": 28,
   "metadata": {},
   "outputs": [
    {
     "data": {
      "text/plain": [
       "['G18GOVRLIT',\n",
       " 'G18GOVDJOR',\n",
       " 'G18GOVLBOE',\n",
       " 'G18GOVCBAY',\n",
       " 'G18GOVOWRI',\n",
       " 'G18LTGRMCG',\n",
       " 'G18LTGDCOL',\n",
       " 'G18SOSRDEN',\n",
       " 'G18SOSDHUM',\n",
       " 'G18CONRWOO',\n",
       " 'G18TRERELL',\n",
       " 'G18ATGRWAS',\n",
       " 'G18ATGDBIS',\n",
       " 'G18SPIRYBA',\n",
       " 'G18SPIDWIL']"
      ]
     },
     "execution_count": 28,
     "metadata": {},
     "output_type": "execute_result"
    }
   ],
   "source": [
    "races = [x for x in vest_shp.columns if 'G18' in x]\n",
    "races"
   ]
  },
  {
   "cell_type": "markdown",
   "metadata": {},
   "source": [
    "### Compare Vote Totals"
   ]
  },
  {
   "cell_type": "code",
   "execution_count": 29,
   "metadata": {},
   "outputs": [
    {
     "name": "stdout",
     "output_type": "stream",
     "text": [
      "3907437\n",
      "3907437\n"
     ]
    }
   ],
   "source": [
    "sum_var_1 = 0\n",
    "sum_var_2 = 0\n",
    "for i in races:\n",
    "    sum_var_1 += np.sum(vest_shp[i])\n",
    "    sum_var_2 += np.sum(election_results[i])\n",
    "print(sum_var_1)\n",
    "print(sum_var_2)"
   ]
  },
  {
   "cell_type": "markdown",
   "metadata": {},
   "source": [
    "### Compare Race Totals"
   ]
  },
  {
   "cell_type": "code",
   "execution_count": 31,
   "metadata": {},
   "outputs": [
    {
     "name": "stdout",
     "output_type": "stream",
     "text": [
      "G18GOVRLIT: EQUAL\n",
      "G18GOVDJOR: EQUAL\n",
      "G18GOVLBOE: EQUAL\n",
      "G18GOVCBAY: EQUAL\n",
      "G18GOVOWRI: EQUAL\n",
      "G18LTGRMCG: EQUAL\n",
      "G18LTGDCOL: EQUAL\n",
      "G18SOSRDEN: EQUAL\n",
      "G18SOSDHUM: EQUAL\n",
      "G18CONRWOO: EQUAL\n",
      "G18TRERELL: EQUAL\n",
      "G18ATGRWAS: EQUAL\n",
      "G18ATGDBIS: EQUAL\n",
      "G18SPIRYBA: EQUAL\n",
      "G18SPIDWIL: EQUAL\n"
     ]
    }
   ],
   "source": [
    "for race in races:\n",
    "    diff_val = sum(vest_shp[race])-sum(election_results[race])\n",
    "    if diff_val != 0:\n",
    "        print(race+\": \"+str(diff_val))\n",
    "    else:\n",
    "        print(race+\": EQUAL\")"
   ]
  },
  {
   "cell_type": "markdown",
   "metadata": {},
   "source": [
    "### More Detailed Vote Comparisons"
   ]
  },
  {
   "cell_type": "code",
   "execution_count": 37,
   "metadata": {},
   "outputs": [],
   "source": [
    "vest_shp[\"join_col\"]=vest_shp['COUNTYFP']+vest_shp['NAME']\n",
    "election_results[\"join_col\"]=election_results[\"County\"]+election_results[\"Precinct\"]"
   ]
  },
  {
   "cell_type": "code",
   "execution_count": 45,
   "metadata": {},
   "outputs": [
    {
     "name": "stdout",
     "output_type": "stream",
     "text": [
      "972\n",
      "972\n",
      "933\n",
      "933\n"
     ]
    }
   ],
   "source": [
    "#Check to make sure that the join_col in both files is unique\n",
    "\n",
    "print(len(election_results[\"join_col\"]))\n",
    "print(election_results[\"join_col\"].value_counts().sum())\n",
    "\n",
    "print(len(vest_shp[\"join_col\"]))\n",
    "print(vest_shp[\"join_col\"].value_counts().sum())"
   ]
  },
  {
   "cell_type": "markdown",
   "metadata": {},
   "source": [
    "### Add Zero Vote Precincts from VEST's File"
   ]
  },
  {
   "cell_type": "code",
   "execution_count": 47,
   "metadata": {},
   "outputs": [
    {
     "data": {
      "text/html": [
       "<div>\n",
       "<style scoped>\n",
       "    .dataframe tbody tr th:only-of-type {\n",
       "        vertical-align: middle;\n",
       "    }\n",
       "\n",
       "    .dataframe tbody tr th {\n",
       "        vertical-align: top;\n",
       "    }\n",
       "\n",
       "    .dataframe thead th {\n",
       "        text-align: right;\n",
       "    }\n",
       "</style>\n",
       "<table border=\"1\" class=\"dataframe\">\n",
       "  <thead>\n",
       "    <tr style=\"text-align: right;\">\n",
       "      <th></th>\n",
       "      <th>STATEFP</th>\n",
       "      <th>COUNTYFP</th>\n",
       "      <th>VTDST</th>\n",
       "      <th>NAME</th>\n",
       "      <th>G18GOVRLIT</th>\n",
       "      <th>G18GOVDJOR</th>\n",
       "      <th>G18GOVLBOE</th>\n",
       "      <th>G18GOVCBAY</th>\n",
       "      <th>G18GOVOWRI</th>\n",
       "      <th>G18LTGRMCG</th>\n",
       "      <th>...</th>\n",
       "      <th>G18SOSRDEN</th>\n",
       "      <th>G18SOSDHUM</th>\n",
       "      <th>G18CONRWOO</th>\n",
       "      <th>G18TRERELL</th>\n",
       "      <th>G18ATGRWAS</th>\n",
       "      <th>G18ATGDBIS</th>\n",
       "      <th>G18SPIRYBA</th>\n",
       "      <th>G18SPIDWIL</th>\n",
       "      <th>geometry</th>\n",
       "      <th>join_col</th>\n",
       "    </tr>\n",
       "  </thead>\n",
       "  <tbody>\n",
       "    <tr>\n",
       "      <th>453</th>\n",
       "      <td>16</td>\n",
       "      <td>011</td>\n",
       "      <td>113127</td>\n",
       "      <td>Bonneville 27</td>\n",
       "      <td>0</td>\n",
       "      <td>0</td>\n",
       "      <td>0</td>\n",
       "      <td>0</td>\n",
       "      <td>0</td>\n",
       "      <td>0</td>\n",
       "      <td>...</td>\n",
       "      <td>0</td>\n",
       "      <td>0</td>\n",
       "      <td>0</td>\n",
       "      <td>0</td>\n",
       "      <td>0</td>\n",
       "      <td>0</td>\n",
       "      <td>0</td>\n",
       "      <td>0</td>\n",
       "      <td>POLYGON Z ((-111.80360 43.28228 0.00000, -111....</td>\n",
       "      <td>011Bonneville 27</td>\n",
       "    </tr>\n",
       "  </tbody>\n",
       "</table>\n",
       "<p>1 rows × 21 columns</p>\n",
       "</div>"
      ],
      "text/plain": [
       "    STATEFP COUNTYFP   VTDST           NAME  G18GOVRLIT  G18GOVDJOR  \\\n",
       "453      16      011  113127  Bonneville 27           0           0   \n",
       "\n",
       "     G18GOVLBOE  G18GOVCBAY  G18GOVOWRI  G18LTGRMCG  ...  G18SOSRDEN  \\\n",
       "453           0           0           0           0  ...           0   \n",
       "\n",
       "     G18SOSDHUM  G18CONRWOO  G18TRERELL  G18ATGRWAS  G18ATGDBIS  G18SPIRYBA  \\\n",
       "453           0           0           0           0           0           0   \n",
       "\n",
       "     G18SPIDWIL                                           geometry  \\\n",
       "453           0  POLYGON Z ((-111.80360 43.28228 0.00000, -111....   \n",
       "\n",
       "             join_col  \n",
       "453  011Bonneville 27  \n",
       "\n",
       "[1 rows x 21 columns]"
      ]
     },
     "execution_count": 47,
     "metadata": {},
     "output_type": "execute_result"
    }
   ],
   "source": [
    "vest_shp[vest_shp['G18GOVRLIT'] == 0]"
   ]
  },
  {
   "cell_type": "code",
   "execution_count": 48,
   "metadata": {},
   "outputs": [
    {
     "data": {
      "text/html": [
       "<div>\n",
       "<style scoped>\n",
       "    .dataframe tbody tr th:only-of-type {\n",
       "        vertical-align: middle;\n",
       "    }\n",
       "\n",
       "    .dataframe tbody tr th {\n",
       "        vertical-align: top;\n",
       "    }\n",
       "\n",
       "    .dataframe thead th {\n",
       "        text-align: right;\n",
       "    }\n",
       "</style>\n",
       "<table border=\"1\" class=\"dataframe\">\n",
       "  <thead>\n",
       "    <tr style=\"text-align: right;\">\n",
       "      <th></th>\n",
       "      <th>County</th>\n",
       "      <th>Precinct</th>\n",
       "      <th>G18GOVCBAY</th>\n",
       "      <th>G18GOVLBOE</th>\n",
       "      <th>G18GOVDJOR</th>\n",
       "      <th>G18GOVRLIT</th>\n",
       "      <th>G18GOVOWRI</th>\n",
       "      <th>G18LTGDCOL</th>\n",
       "      <th>G18LTGRMCG</th>\n",
       "      <th>G18SOSRDEN</th>\n",
       "      <th>G18SOSDHUM</th>\n",
       "      <th>G18CONRWOO</th>\n",
       "      <th>G18TRERELL</th>\n",
       "      <th>G18ATGDBIS</th>\n",
       "      <th>G18ATGRWAS</th>\n",
       "      <th>G18SPIDWIL</th>\n",
       "      <th>G18SPIRYBA</th>\n",
       "      <th>join_col</th>\n",
       "    </tr>\n",
       "  </thead>\n",
       "  <tbody>\n",
       "    <tr>\n",
       "      <th>263</th>\n",
       "      <td>BINGHAM</td>\n",
       "      <td>Bonneville 27</td>\n",
       "      <td>0</td>\n",
       "      <td>0</td>\n",
       "      <td>0</td>\n",
       "      <td>0</td>\n",
       "      <td>0</td>\n",
       "      <td>0</td>\n",
       "      <td>0</td>\n",
       "      <td>0</td>\n",
       "      <td>0</td>\n",
       "      <td>0</td>\n",
       "      <td>0</td>\n",
       "      <td>0</td>\n",
       "      <td>0</td>\n",
       "      <td>0</td>\n",
       "      <td>0</td>\n",
       "      <td>BINGHAMBonneville 27</td>\n",
       "    </tr>\n",
       "  </tbody>\n",
       "</table>\n",
       "</div>"
      ],
      "text/plain": [
       "      County       Precinct  G18GOVCBAY  G18GOVLBOE  G18GOVDJOR  G18GOVRLIT  \\\n",
       "263  BINGHAM  Bonneville 27           0           0           0           0   \n",
       "\n",
       "     G18GOVOWRI  G18LTGDCOL  G18LTGRMCG  G18SOSRDEN  G18SOSDHUM  G18CONRWOO  \\\n",
       "263           0           0           0           0           0           0   \n",
       "\n",
       "     G18TRERELL  G18ATGDBIS  G18ATGRWAS  G18SPIDWIL  G18SPIRYBA  \\\n",
       "263           0           0           0           0           0   \n",
       "\n",
       "                 join_col  \n",
       "263  BINGHAMBonneville 27  "
      ]
     },
     "execution_count": 48,
     "metadata": {},
     "output_type": "execute_result"
    }
   ],
   "source": [
    "election_results[election_results['G18GOVRLIT'] == 0]"
   ]
  },
  {
   "cell_type": "markdown",
   "metadata": {},
   "source": [
    "Doesn't look like there's any zero vote precincts to add. "
   ]
  },
  {
   "cell_type": "markdown",
   "metadata": {},
   "source": [
    "### Deal with the countywide votes in the recreated file"
   ]
  },
  {
   "cell_type": "markdown",
   "metadata": {},
   "source": [
    "#### Make a df with the countywide votes and their totals"
   ]
  },
  {
   "cell_type": "code",
   "execution_count": 68,
   "metadata": {},
   "outputs": [],
   "source": [
    "#Create a list of the all the different names used for these types of votes\n",
    "#These were find in comparing the names present in both files\n",
    "filter_out_list = [x for x in election_results['Precinct'].unique() if 'Absentee' in x or 'ABSENTEE' in x or 'ABS Leg Dist' in x]"
   ]
  },
  {
   "cell_type": "code",
   "execution_count": 69,
   "metadata": {},
   "outputs": [],
   "source": [
    "#Create a df of just these precincts\n",
    "to_dole_out = election_results[election_results[\"Precinct\"].isin(filter_out_list)]"
   ]
  },
  {
   "cell_type": "code",
   "execution_count": 71,
   "metadata": {},
   "outputs": [],
   "source": [
    "#Create a new df with the county-by-county totals of these precincts and reset the index \n",
    "to_dole_out_totals = pd.DataFrame(to_dole_out.groupby([\"County\"]).sum())\n",
    "to_dole_out_totals.reset_index(inplace=True,drop=False)"
   ]
  },
  {
   "cell_type": "markdown",
   "metadata": {},
   "source": [
    "#### Filter out the countywide precincts from the original dataframe and get the precinct-level vote totals by county"
   ]
  },
  {
   "cell_type": "code",
   "execution_count": 72,
   "metadata": {},
   "outputs": [
    {
     "name": "stdout",
     "output_type": "stream",
     "text": [
      "      County  G18GOVCBAY  G18GOVLBOE  G18GOVDJOR  G18GOVRLIT  G18GOVOWRI  \\\n",
      "0        ADA        1086        1943       94772       92684          17   \n",
      "1      ADAMS          14          20         431        1026           0   \n",
      "2    BANNOCK         257         303        9024       11516           0   \n",
      "3  BEAR LAKE          39          25         307        1780           0   \n",
      "4    BENEWAH          39          48        1004        2672           0   \n",
      "\n",
      "   G18LTGDCOL  G18LTGRMCG  G18SOSRDEN  G18SOSDHUM  G18CONRWOO  G18TRERELL  \\\n",
      "0       99311       88189       95073       90389      131433      131838   \n",
      "1         410        1045        1090         372        1225        1227   \n",
      "2        9169       11643       12202        8491       17273       17263   \n",
      "3         356        1779        1778         355        1998        2004   \n",
      "4        1012        2653        2692         952        3110        3130   \n",
      "\n",
      "   G18ATGDBIS  G18ATGRWAS  G18SPIDWIL  G18SPIRYBA  \n",
      "0       81514      102150      110514       76091  \n",
      "1         341        1089         515         932  \n",
      "2        8212       12327       12012        8713  \n",
      "3         298        1833         586        1540  \n",
      "4         950        2663        1140        2517  \n",
      "       County  G18GOVCBAY  G18GOVLBOE  G18GOVDJOR  G18GOVRLIT  G18GOVOWRI  \\\n",
      "0       ADAMS           3           2         148         262           0   \n",
      "1     BANNOCK          81          83        4362        3459           1   \n",
      "2      BLAINE          11          36        3804        1254           0   \n",
      "3       BOISE           4           4         276         435           0   \n",
      "4  BONNEVILLE          61          85        2958        4446           0   \n",
      "\n",
      "   G18LTGDCOL  G18LTGRMCG  G18SOSRDEN  G18SOSDHUM  G18CONRWOO  G18TRERELL  \\\n",
      "0         140         274         288         126         316         313   \n",
      "1        4624        3338        3511        4400        5671        5673   \n",
      "2        3822        1245        1381        3669        2981        3076   \n",
      "3         277         440         457         256         549         547   \n",
      "4        3244        4254        4334        3105        4885        4886   \n",
      "\n",
      "   G18ATGDBIS  G18ATGRWAS  G18SPIDWIL  G18SPIRYBA  \n",
      "0         127         281         149         263  \n",
      "1        4308        3590        4943        2995  \n",
      "2        3548        1468        3819        1212  \n",
      "3         253         458         296         415  \n",
      "4        2783        4631        3832        3626  \n"
     ]
    }
   ],
   "source": [
    "#Filter out the countywide votes from the dataframe so we can iterate over just the remaining precincts and add votes\n",
    "filtered_election = election_results[~election_results[\"Precinct\"].isin(filter_out_list)]\n",
    "\n",
    "#Create a df with the county-by-county sums of precinct-level votes, this will be used in the allocation, clean the index\n",
    "precinct_specific_totals = pd.DataFrame(filtered_election.groupby([\"County\"]).sum())\n",
    "precinct_specific_totals.reset_index(inplace=True,drop=False)\n",
    "filtered_election.reset_index(inplace=True,drop=True)\n",
    "\n",
    "#Look at both dfs to get a sense for what they show\n",
    "print(precinct_specific_totals.head())\n",
    "print(to_dole_out_totals.head())"
   ]
  },
  {
   "cell_type": "markdown",
   "metadata": {},
   "source": [
    "#### Allocate the countywide votes"
   ]
  },
  {
   "cell_type": "code",
   "execution_count": 75,
   "metadata": {},
   "outputs": [
    {
     "data": {
      "text/plain": [
       "array(['ADAMS', 'BANNOCK', 'BLAINE', 'BOISE', 'BONNEVILLE', 'BOUNDARY',\n",
       "       'CLEARWATER', 'CUSTER', 'ELMORE', 'FRANKLIN', 'FREMONT', 'GEM',\n",
       "       'GOODING', 'IDAHO', 'JEFFERSON', 'JEROME', 'KOOTENAI', 'LATAH',\n",
       "       'LEMHI', 'LEWIS', 'MADISON', 'MINIDOKA', 'NEZ PERCE', 'OWYHEE',\n",
       "       'SHOSHONE', 'TETON', 'TWIN FALLS ', 'VALLEY'], dtype=object)"
      ]
     },
     "execution_count": 75,
     "metadata": {},
     "output_type": "execute_result"
    }
   ],
   "source": [
    "to_dole_out['County'].unique()"
   ]
  },
  {
   "cell_type": "code",
   "execution_count": 79,
   "metadata": {},
   "outputs": [
    {
     "ename": "ZeroDivisionError",
     "evalue": "float division by zero",
     "output_type": "error",
     "traceback": [
      "\u001b[0;31m---------------------------------------------------------------------------\u001b[0m",
      "\u001b[0;31mZeroDivisionError\u001b[0m                         Traceback (most recent call last)",
      "\u001b[0;32m<ipython-input-79-37ca4b26c121>\u001b[0m in \u001b[0;36m<module>\u001b[0;34m\u001b[0m\n\u001b[1;32m     26\u001b[0m             \u001b[0mval\u001b[0m \u001b[0;34m=\u001b[0m \u001b[0mfiltered_election\u001b[0m\u001b[0;34m.\u001b[0m\u001b[0mat\u001b[0m\u001b[0;34m[\u001b[0m\u001b[0mindex\u001b[0m\u001b[0;34m,\u001b[0m\u001b[0mrace\u001b[0m\u001b[0;34m]\u001b[0m\u001b[0;34m\u001b[0m\u001b[0;34m\u001b[0m\u001b[0m\n\u001b[1;32m     27\u001b[0m             \u001b[0;31m#Get the vote share, the precincts % of total precinct votes in the county times votes to allocate\u001b[0m\u001b[0;34m\u001b[0m\u001b[0;34m\u001b[0m\u001b[0;34m\u001b[0m\u001b[0m\n\u001b[0;32m---> 28\u001b[0;31m             \u001b[0mvote_share\u001b[0m \u001b[0;34m=\u001b[0m \u001b[0;34m(\u001b[0m\u001b[0mfloat\u001b[0m\u001b[0;34m(\u001b[0m\u001b[0mval\u001b[0m\u001b[0;34m)\u001b[0m\u001b[0;34m/\u001b[0m\u001b[0mfloat\u001b[0m\u001b[0;34m(\u001b[0m\u001b[0mdenom\u001b[0m\u001b[0;34m)\u001b[0m\u001b[0;34m)\u001b[0m\u001b[0;34m*\u001b[0m\u001b[0mfloat\u001b[0m\u001b[0;34m(\u001b[0m\u001b[0mnumer\u001b[0m\u001b[0;34m)\u001b[0m\u001b[0;34m\u001b[0m\u001b[0;34m\u001b[0m\u001b[0m\n\u001b[0m\u001b[1;32m     29\u001b[0m             \u001b[0mfiltered_election\u001b[0m\u001b[0;34m.\u001b[0m\u001b[0mat\u001b[0m\u001b[0;34m[\u001b[0m\u001b[0mindex\u001b[0m\u001b[0;34m,\u001b[0m\u001b[0madd_var\u001b[0m\u001b[0;34m]\u001b[0m \u001b[0;34m=\u001b[0m \u001b[0mvote_share\u001b[0m\u001b[0;34m\u001b[0m\u001b[0;34m\u001b[0m\u001b[0m\n\u001b[1;32m     30\u001b[0m             \u001b[0;31m#Take the decimal remainder of the allocation\u001b[0m\u001b[0;34m\u001b[0m\u001b[0;34m\u001b[0m\u001b[0;34m\u001b[0m\u001b[0m\n",
      "\u001b[0;31mZeroDivisionError\u001b[0m: float division by zero"
     ]
    }
   ],
   "source": [
    "#Create some new columns for each of these races to deal with the allocation\n",
    "for race in races:\n",
    "    add_var = race+\"_add\"\n",
    "    rem_var = race+\"_rem\"\n",
    "    floor_var = race+\"_floor\"\n",
    "    filtered_election.loc[:,add_var]=0.0\n",
    "    filtered_election.loc[:,rem_var]=0.0\n",
    "    filtered_election.loc[:,floor_var]=0.0\n",
    "\n",
    "#Iterate over the rows\n",
    "#Note this function iterates over the dataframe two times so the rounded vote totals match the totals to allocate\n",
    "for index, row in filtered_election.iterrows():\n",
    "    #No countywide votes for 510\n",
    "    if row[\"County\"] in to_dole_out['County'].unique():\n",
    "        for race in races:\n",
    "            add_var = race+\"_add\"\n",
    "            rem_var = race+\"_rem\"\n",
    "            floor_var = race+\"_floor\"\n",
    "            #Grab the county\n",
    "            county_id = row[\"County\"]\n",
    "            #Get the denominator for the allocation (the precinct vote totals)\n",
    "            denom = precinct_specific_totals.loc[precinct_specific_totals[\"County\"]==county_id][race]\n",
    "            #Get one of the numerators, how many countywide votes to allocate\n",
    "            numer = to_dole_out_totals.loc[to_dole_out_totals[\"County\"]==county_id][race]\n",
    "            #Get the vote totals for this race in this precinct\n",
    "            val = filtered_election.at[index,race]\n",
    "            #Get the vote share, the precincts % of total precinct votes in the county times votes to allocate\n",
    "            vote_share = (float(val)/float(denom))*float(numer)\n",
    "            filtered_election.at[index,add_var] = vote_share\n",
    "            #Take the decimal remainder of the allocation\n",
    "            filtered_election.at[index,rem_var] = vote_share%1\n",
    "            #Take the floor of the allocation\n",
    "            filtered_election.at[index,floor_var] = np.floor(vote_share)\n",
    "\n",
    "#After the first pass through, get the sums of the races by county            \n",
    "first_allocation = pd.DataFrame(filtered_election.groupby([\"County\"]).sum())\n",
    "\n",
    "#Now we want to iterate county by county to work on rounding\n",
    "county_list = list(to_dole_out_totals[\"County\"].unique()) \n",
    "\n",
    "#Iterate over the counties\n",
    "for county in county_list:\n",
    "    for race in races:\n",
    "        add_var = race+\"_add\"\n",
    "        rem_var = race+\"_rem\"\n",
    "        floor_var = race+\"_floor\"\n",
    "        #County how many votes still need to be allocated (because we took the floor of all the initial allocations)\n",
    "        to_go = int(np.round((int(to_dole_out_totals.loc[to_dole_out_totals[\"County\"]==county][race])-first_allocation.loc[first_allocation.index==county,floor_var])))\n",
    "        #Grab the n precincts with the highest remainders and round these up, where n is the # of votes that still need to be allocated\n",
    "        for index in filtered_election.loc[filtered_election[\"County\"]==county][rem_var].nlargest(to_go).index:\n",
    "            filtered_election.at[index,add_var] = np.ceil(filtered_election.at[index,add_var])\n",
    "\n",
    "#Iterate over every race again\n",
    "for race in races:\n",
    "    add_var = race+\"_add\"\n",
    "    #Round every allocation down\n",
    "    filtered_election.loc[:,add_var]=np.floor(filtered_election.loc[:,add_var])\n",
    "    #Add every allocation to the total\n",
    "    filtered_election.loc[:,race]+=filtered_election.loc[:,add_var]\n",
    "\n",
    "#Filter back down to the original columns\n",
    "filtered_election = filtered_election[list(election_results.columns)]"
   ]
  },
  {
   "cell_type": "markdown",
   "metadata": {},
   "source": [
    "Got this code from Peter's MO 2016 and left off here. "
   ]
  },
  {
   "cell_type": "markdown",
   "metadata": {},
   "source": [
    "#### Check the allocation by making sure the vote totals still equal one another"
   ]
  },
  {
   "cell_type": "code",
   "execution_count": null,
   "metadata": {},
   "outputs": [],
   "source": [
    "for race in races:\n",
    "    diff_val = sum(vest_shp[race])-sum(filtered_election[race])\n",
    "    if diff_val!=0:\n",
    "        print(race+\": \"+str(diff_val))\n",
    "    else:\n",
    "        print(race+\": EQUAL\")"
   ]
  }
 ],
 "metadata": {
  "kernelspec": {
   "display_name": "Python 3",
   "language": "python",
   "name": "python3"
  },
  "language_info": {
   "codemirror_mode": {
    "name": "ipython",
    "version": 3
   },
   "file_extension": ".py",
   "mimetype": "text/x-python",
   "name": "python",
   "nbconvert_exporter": "python",
   "pygments_lexer": "ipython3",
   "version": "3.8.2"
  },
  "toc-autonumbering": true
 },
 "nbformat": 4,
 "nbformat_minor": 4
}
